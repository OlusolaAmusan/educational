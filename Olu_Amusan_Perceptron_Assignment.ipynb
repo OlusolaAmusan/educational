{
  "nbformat": 4,
  "nbformat_minor": 0,
  "metadata": {
    "colab": {
      "name": "Olu Amusan_Perceptron Assignment.ipynb",
      "provenance": [],
      "collapsed_sections": [],
      "include_colab_link": true
    },
    "kernelspec": {
      "name": "python3",
      "display_name": "Python 3"
    },
    "accelerator": "GPU"
  },
  "cells": [
    {
      "cell_type": "markdown",
      "metadata": {
        "id": "view-in-github",
        "colab_type": "text"
      },
      "source": [
        "<a href=\"https://colab.research.google.com/github/OlusolaAmusan/educational/blob/master/Olu_Amusan_Perceptron_Assignment.ipynb\" target=\"_parent\"><img src=\"https://colab.research.google.com/assets/colab-badge.svg\" alt=\"Open In Colab\"/></a>"
      ]
    },
    {
      "cell_type": "markdown",
      "metadata": {
        "id": "vYiZq0X2oB5t"
      },
      "source": [
        "# **CSCE 5218 / CSCE 4930 Deep Learning**\n",
        "\n",
        "# **HW1a The Perceptron** (20 pt)\n"
      ]
    },
    {
      "cell_type": "code",
      "metadata": {
        "colab": {
          "base_uri": "https://localhost:8080/"
        },
        "id": "vGVmKzgG2Ium",
        "outputId": "76004388-3fab-4726-ff95-b29b729c6b97"
      },
      "source": [
        "# Get the datasets\n",
        "!wget http://www.cse.unt.edu/~blanco/csce5218/hw1a/train.dat\n",
        "!wget http://www.cse.unt.edu/~blanco/csce5218/hw1a/test.dat"
      ],
      "execution_count": null,
      "outputs": [
        {
          "output_type": "stream",
          "text": [
            "--2021-02-09 03:02:39--  http://www.cse.unt.edu/~blanco/csce5218/hw1a/train.dat\n",
            "Resolving www.cse.unt.edu (www.cse.unt.edu)... 129.120.151.91\n",
            "Connecting to www.cse.unt.edu (www.cse.unt.edu)|129.120.151.91|:80... connected.\n",
            "HTTP request sent, awaiting response... 200 OK\n",
            "Length: 11244 (11K) [application/x-ns-proxy-autoconfig]\n",
            "Saving to: ‘train.dat’\n",
            "\n",
            "\rtrain.dat             0%[                    ]       0  --.-KB/s               \rtrain.dat           100%[===================>]  10.98K  --.-KB/s    in 0s      \n",
            "\n",
            "2021-02-09 03:02:40 (107 MB/s) - ‘train.dat’ saved [11244/11244]\n",
            "\n",
            "--2021-02-09 03:02:40--  http://www.cse.unt.edu/~blanco/csce5218/hw1a/test.dat\n",
            "Resolving www.cse.unt.edu (www.cse.unt.edu)... 129.120.151.91\n",
            "Connecting to www.cse.unt.edu (www.cse.unt.edu)|129.120.151.91|:80... connected.\n",
            "HTTP request sent, awaiting response... 200 OK\n",
            "Length: 2844 (2.8K) [application/x-ns-proxy-autoconfig]\n",
            "Saving to: ‘test.dat’\n",
            "\n",
            "test.dat            100%[===================>]   2.78K  --.-KB/s    in 0s      \n",
            "\n",
            "2021-02-09 03:02:40 (371 MB/s) - ‘test.dat’ saved [2844/2844]\n",
            "\n"
          ],
          "name": "stdout"
        }
      ]
    },
    {
      "cell_type": "code",
      "metadata": {
        "colab": {
          "base_uri": "https://localhost:8080/"
        },
        "id": "A69DxPSc8vNs",
        "outputId": "387494b5-75c5-4a69-da88-4fe9584c1c5e"
      },
      "source": [
        "# Take a peek at the datasets\n",
        "!head train.dat\n",
        "!head test.dat"
      ],
      "execution_count": null,
      "outputs": [
        {
          "output_type": "stream",
          "text": [
            "A1\tA2\tA3\tA4\tA5\tA6\tA7\tA8\tA9\tA10\tA11\tA12\tA13\t\n",
            "1\t1\t0\t0\t0\t0\t0\t0\t1\t1\t0\t0\t1\t0\n",
            "0\t0\t1\t1\t0\t1\t1\t0\t0\t0\t0\t0\t1\t0\n",
            "0\t1\t0\t1\t1\t0\t1\t0\t1\t1\t1\t0\t1\t1\n",
            "0\t0\t1\t0\t0\t1\t0\t1\t0\t1\t1\t1\t1\t0\n",
            "0\t1\t0\t0\t0\t0\t0\t1\t1\t1\t1\t1\t1\t0\n",
            "0\t1\t1\t1\t0\t0\t0\t1\t0\t1\t1\t0\t1\t1\n",
            "0\t1\t1\t0\t0\t0\t1\t0\t0\t0\t0\t0\t1\t0\n",
            "0\t0\t0\t1\t1\t0\t1\t1\t1\t0\t0\t0\t1\t0\n",
            "0\t0\t0\t0\t0\t0\t1\t0\t1\t0\t1\t0\t1\t0\n",
            "A1\tA2\tA3\tA4\tA5\tA6\tA7\tA8\tA9\tA10\tA11\tA12\tA13\n",
            "1\t1\t1\t1\t0\t0\t1\t1\t0\t0\t0\t1\t1\t0\n",
            "0\t0\t0\t1\t0\t0\t1\t1\t0\t1\t0\t0\t1\t0\n",
            "0\t1\t1\t1\t0\t1\t1\t1\t1\t0\t0\t0\t1\t0\n",
            "0\t1\t1\t0\t1\t0\t1\t1\t1\t0\t1\t0\t1\t0\n",
            "0\t1\t0\t0\t0\t1\t0\t1\t0\t1\t0\t0\t1\t0\n",
            "0\t1\t1\t0\t0\t1\t1\t1\t1\t1\t1\t0\t1\t0\n",
            "0\t1\t1\t1\t0\t0\t1\t1\t0\t0\t0\t1\t1\t0\n",
            "0\t1\t0\t0\t1\t0\t0\t1\t1\t0\t1\t1\t1\t0\n",
            "1\t1\t1\t1\t0\t0\t1\t1\t0\t0\t0\t0\t1\t0\n"
          ],
          "name": "stdout"
        }
      ]
    },
    {
      "cell_type": "code",
      "metadata": {
        "id": "cXAsP_lw3QwJ"
      },
      "source": [
        "import math\n",
        "import itertools\n",
        "import re\n",
        "\n",
        "\n",
        "# Corpus reader, all columns but the last one are coordinates;\n",
        "#   the last column is the label\n",
        "def read_data(file_name):\n",
        "    f = open(file_name, 'r')\n",
        "\n",
        "    data = []\n",
        "    # Discard header line\n",
        "    f.readline()\n",
        "    for instance in f.readlines():\n",
        "        if not re.search('\\t', instance): continue\n",
        "        instance = list(map(int, instance.strip().split('\\t')))\n",
        "        # Add a dummy input so that w0 becomes the bias\n",
        "        instance = [-1] + instance\n",
        "        data += [instance]\n",
        "    return data\n",
        "\n",
        "\n",
        "def dot_product(array1, array2):\n",
        "    # You do not to write code like this, but get used to it\n",
        "    return sum([w * x for w, x in zip(array1, array2)])\n",
        "\n",
        "\n",
        "def sigmoid(x):\n",
        "    return 1 / (1 + math.exp(-x))\n",
        "\n",
        "\n",
        "# Accuracy = percent of correct predictions\n",
        "def get_accuracy(weights, instances):\n",
        "    # You do not to write code like this, but get used to it\n",
        "    correct = sum([1 if predict(weights, instance) == instance[-1] else 0\n",
        "                   for instance in instances])\n",
        "    return correct * 100 / len(instances)\n",
        "\n",
        "\n",
        "# Predict a new instance; this is the definition of the perceptron\n",
        "def predict(weights, instance):\n",
        "    if sigmoid(dot_product(weights, instance)) >= 0.5:\n",
        "        return 1\n",
        "    return 0\n",
        "\n",
        "\n",
        "# Train a perceptron with instances\n",
        "#   and hyperparameters lr (leearning rate) and epochs\n",
        "# The implementation comes from the definition of the perceptron\n",
        "# Training consists on fitting the parameters\n",
        "#   The parameters are the weights, that's the only thing training is responsible to fit\n",
        "#     (recall that w0 is the bias, and w1..wn are the weights for each coordinate)\n",
        "#   Hyperparameters (lr and epochs) are given to the training algorithm\n",
        "# We are updating weights in the opposite direction of the gradient of the error,\n",
        "#   so with a \"decent\" lr we are guaranteed to reduce the error after each iteration.\n",
        "def train_perceptron(instances, lr, epochs):\n",
        "    weights = [0] * (len(instances[0])-1)\n",
        "    # weights = [0, 0, 0, ...,  0]\n",
        "\n",
        "    while epochs > 0:\n",
        "        for instance in instances:\n",
        "            in_value = dot_product(weights, instance)\n",
        "            output = sigmoid(in_value)\n",
        "            error = instance[-1] - output\n",
        "            for i in range(0, len(weights)):\n",
        "                weights[i] += lr * error * output * (1-output) * instance[i]\n",
        "\n",
        "        epochs -= 1\n",
        "        if epochs == 0:\n",
        "            break\n",
        "\n",
        "    return weights"
      ],
      "execution_count": null,
      "outputs": []
    },
    {
      "cell_type": "code",
      "metadata": {
        "colab": {
          "base_uri": "https://localhost:8080/"
        },
        "id": "50YvUza-BYQF",
        "outputId": "65e3a448-f8ec-4a6c-aeb2-85a04a47a21e"
      },
      "source": [
        "instances_tr = read_data(\"train.dat\")\n",
        "instances_te = read_data(\"test.dat\")\n",
        "lr = 0.005\n",
        "epochs = 100\n",
        "weights = train_perceptron(instances_tr, lr, epochs)\n",
        "accuracy = get_accuracy(weights, instances_te)\n",
        "print(f\"#tr: {len(instances_tr):3}, epochs: {epochs:3}, learning rate: {lr:.3f};\"\n",
        "      f\"Accuracy (test, {len(instances_te)} instances): {accuracy:.1f}\")"
      ],
      "execution_count": null,
      "outputs": [
        {
          "output_type": "stream",
          "text": [
            "#tr: 400, epochs: 100, learning rate: 0.005;Accuracy (test, 100 instances): 77.0\n"
          ],
          "name": "stdout"
        }
      ]
    },
    {
      "cell_type": "markdown",
      "metadata": {
        "id": "CBXkvaiQMohX"
      },
      "source": [
        "## Questions\n",
        "\n",
        "Answer the following questions. Include your implementation and the output for each question."
      ]
    },
    {
      "cell_type": "markdown",
      "metadata": {
        "id": "YCQ6BEk1CBlr"
      },
      "source": [
        "\n",
        "\n",
        "### Question 1\n",
        "\n",
        "In `train_perceptron(instances, lr, epochs)`, we have the follosing code:\n",
        "```\n",
        "in_value = dot_product(weights, instance)\n",
        "output = sigmoid(in_value)\n",
        "error = instance[-1] - output\n",
        "```\n",
        "\n",
        "Why don't we have the following code snippet instead?\n",
        "```\n",
        "output = predict(weights, instance)\n",
        "error = instance[-1] - output\n",
        "```\n",
        "\n",
        "#### TODO Add your answer here (text only)"
      ]
    },
    {
      "cell_type": "markdown",
      "metadata": {
        "id": "zguuh-o-h5rc"
      },
      "source": [
        "**ANSWER**\r\n",
        "\r\n",
        "The dot.product and sigmoid function is being used so as to estimate the given data then passed into an activation function (sigmoid) for classification between 0 and 1. Hence, there is a need to setup the training algorithm and ensure it is accurate and precise to some extent before prediction."
      ]
    },
    {
      "cell_type": "markdown",
      "metadata": {
        "id": "JU3c3m6YL2rK"
      },
      "source": [
        "### Question 2\n",
        "Train the perceptron with the following hyperparameters and calculate the accuracy with the test dataset.\n",
        "\n",
        "```\n",
        "tr_percent = [5, 10, 25, 50, 75, 100] # percent of the training dataset to train with\n",
        "num_epochs = [5, 10, 20, 50, 100]              # number of epochs\n",
        "lr = [0.005, 0.01, 0.05]              # learning rate\n",
        "```\n",
        "\n",
        "TODO Write your code below and include the output of your code.\n",
        "The output should look like the following:\n",
        "```\n",
        "# tr:  20, epochs:   5, learning rate: 0.005; Accuracy (test, 100 instances): 68.0\n",
        "# tr:  20, epochs:  10, learning rate: 0.005; Accuracy (test, 100 instances): 68.0\n",
        "# tr:  20, epochs:  20, learning rate: 0.005; Accuracy (test, 100 instances): 68.0\n",
        "[and so on for all the combinations]\n",
        "```\n",
        "You will get different results with differet hyperparameters.\n",
        "\n",
        "#### TODO Add your answer here (code and output in the format above) "
      ]
    },
    {
      "cell_type": "code",
      "metadata": {
        "id": "6EskGPIOsezp"
      },
      "source": [
        "#instances_tr5 = instances_tr[:5]\r\n",
        "#instances_tr10 = instances_tr[:10]\r\n",
        "#instances_tr25 = instances_tr[:25]\r\n",
        "#instances_tr50 = instances_tr[:50]\r\n",
        "#instances_tr75 = instances_tr[:75]\r\n",
        "instances_tr100 = instances_tr[:100]\r\n",
        "#instances_tr = read_data(\"train.dat\")\r\n",
        "instances_te = read_data(\"test.dat\")\r\n",
        "lr = 0.05\r\n",
        "epochs = 5\r\n",
        "weights = train_perceptron(instances_tr100, lr, epochs)\r\n",
        "accuracy = get_accuracy(weights, instances_te)\r\n",
        "print(f\"#tr: {len(instances_tr100):3}, epochs: {epochs:3}, learning rate: {lr:.3f};\"\r\n",
        "      f\"Accuracy (test, {len(instances_te)} instances): {accuracy:.1f}\")"
      ],
      "execution_count": null,
      "outputs": []
    },
    {
      "cell_type": "code",
      "metadata": {
        "id": "APhBpb3Sr3BW"
      },
      "source": [
        "# tr : 5, lr = 0.005\r\n",
        "#tr:   5, epochs:   5, learning rate: 0.005; Accuracy (test, 100 instances): 68.0\r\n",
        "#tr:   5, epochs:  10, learning rate: 0.005; Accuracy (test, 100 instances): 68.0\r\n",
        "#tr:   5, epochs:  20, learning rate: 0.005; Accuracy (test, 100 instances): 68.0\r\n",
        "#tr:   5, epochs:  50, learning rate: 0.005; Accuracy (test, 100 instances): 68.0\r\n",
        "#tr:   5, epochs: 100, learning rate: 0.005; Accuracy (test, 100 instances): 68.0\r\n",
        "\r\n",
        "# tr : 10, lr = 0.005\r\n",
        "#tr:  10, epochs:   5, learning rate: 0.005; Accuracy (test, 100 instances): 68.0\r\n",
        "#tr:  10, epochs:  10, learning rate: 0.005; Accuracy (test, 100 instances): 68.0\r\n",
        "#tr:  10, epochs:  20, learning rate: 0.005; Accuracy (test, 100 instances): 68.0\r\n",
        "#tr:  10, epochs:  50, learning rate: 0.005; Accuracy (test, 100 instances): 68.0\r\n",
        "#tr:  10, epochs: 100, learning rate: 0.005; Accuracy (test, 100 instances): 68.0\r\n",
        "\r\n",
        "#tr : 25, lr = 0.005\r\n",
        "#tr:  25, epochs:   5, learning rate: 0.005;Accuracy (test, 100 instances): 68.0\r\n",
        "#tr:  25, epochs:  10, learning rate: 0.005;Accuracy (test, 100 instances): 68.0\r\n",
        "#tr:  25, epochs:  20, learning rate: 0.005;Accuracy (test, 100 instances): 68.0\r\n",
        "#tr:  25, epochs:  50, learning rate: 0.005;Accuracy (test, 100 instances): 68.0\r\n",
        "#tr:  25, epochs: 100, learning rate: 0.005;Accuracy (test, 100 instances): 68.0\r\n",
        "\r\n",
        "# tr : 50, lr = 0.005\r\n",
        "#tr:  50, epochs:   5, learning rate: 0.005;Accuracy (test, 100 instances): 68.0\r\n",
        "#tr:  50, epochs:  10, learning rate: 0.005;Accuracy (test, 100 instances): 68.0\r\n",
        "#tr:  50, epochs:  20, learning rate: 0.005;Accuracy (test, 100 instances): 68.0\r\n",
        "#tr:  50, epochs:  50, learning rate: 0.005;Accuracy (test, 100 instances): 68.0\r\n",
        "#tr:  50, epochs: 100, learning rate: 0.005;Accuracy (test, 100 instances): 68.0\r\n",
        "\r\n",
        "#tr : 75, lr = 0.005\r\n",
        "#tr:  75, epochs:   5, learning rate: 0.005;Accuracy (test, 100 instances): 68.0\r\n",
        "#tr:  75, epochs:  10, learning rate: 0.005;Accuracy (test, 100 instances): 68.0\r\n",
        "#tr:  75, epochs:  20, learning rate: 0.005;Accuracy (test, 100 instances): 68.0\r\n",
        "#tr:  75, epochs:  50, learning rate: 0.005;Accuracy (test, 100 instances): 68.0\r\n",
        "#tr:  75, epochs: 100, learning rate: 0.005;Accuracy (test, 100 instances): 68.0\r\n",
        "\r\n",
        "#tr : 100, lr = 0.005\r\n",
        "#tr: 100, epochs:   5, learning rate: 0.005;Accuracy (test, 100 instances): 68.0\r\n",
        "#tr: 100, epochs:  10, learning rate: 0.005;Accuracy (test, 100 instances): 68.0\r\n",
        "#tr: 100, epochs:  20, learning rate: 0.005;Accuracy (test, 100 instances): 68.0\r\n",
        "#tr: 100, epochs:  50, learning rate: 0.005;Accuracy (test, 100 instances): 68.0\r\n",
        "#tr: 100, epochs: 100, learning rate: 0.005;Accuracy (test, 100 instances): 68.0\r\n",
        "\r\n",
        "\r\n",
        "\r\n",
        "\r\n",
        "#tr 5, lr = 0.01\r\n",
        "#tr:   5, epochs:   5, learning rate: 0.010;Accuracy (test, 100 instances): 68.0\r\n",
        "#tr:   5, epochs:  10, learning rate: 0.010;Accuracy (test, 100 instances): 68.0\r\n",
        "#tr:   5, epochs:  20, learning rate: 0.010;Accuracy (test, 100 instances): 68.0\r\n",
        "#tr:   5, epochs:  50, learning rate: 0.010;Accuracy (test, 100 instances): 68.0\r\n",
        "#tr:   5, epochs: 100, learning rate: 0.010;Accuracy (test, 100 instances): 68.0\r\n",
        "\r\n",
        "#tr 10, lr = 0.01\r\n",
        "#tr:  10, epochs:   5, learning rate: 0.010;Accuracy (test, 100 instances): 68.0\r\n",
        "#tr:  10, epochs:  10, learning rate: 0.010;Accuracy (test, 100 instances): 68.0\r\n",
        "#tr:  10, epochs:  20, learning rate: 0.010;Accuracy (test, 100 instances): 68.0\r\n",
        "#tr:  10, epochs:  50, learning rate: 0.010;Accuracy (test, 100 instances): 68.0\r\n",
        "#tr:  10, epochs: 100, learning rate: 0.010;Accuracy (test, 100 instances): 67.0\r\n",
        "\r\n",
        "#tr 25, lr = 0.01\r\n",
        "#tr:  25, epochs:   5, learning rate: 0.010;Accuracy (test, 100 instances): 68.0\r\n",
        "#tr:  25, epochs:  10, learning rate: 0.010;Accuracy (test, 100 instances): 68.0\r\n",
        "#tr:  25, epochs:  20, learning rate: 0.010;Accuracy (test, 100 instances): 68.0\r\n",
        "#tr:  25, epochs:  50, learning rate: 0.010;Accuracy (test, 100 instances): 68.0\r\n",
        "#tr:  25, epochs: 100, learning rate: 0.010;Accuracy (test, 100 instances): 71.0\r\n",
        "\r\n",
        "\r\n",
        "#tr 50, lr = 0.01\r\n",
        "#tr:  50, epochs:   5, learning rate: 0.010;Accuracy (test, 100 instances): 68.0\r\n",
        "#tr:  50, epochs:  10, learning rate: 0.010;Accuracy (test, 100 instances): 68.0\r\n",
        "#tr:  50, epochs:  20, learning rate: 0.010;Accuracy (test, 100 instances): 68.0\r\n",
        "#tr:  50, epochs:  50, learning rate: 0.010;Accuracy (test, 100 instances): 68.0\r\n",
        "#tr:  50, epochs: 100, learning rate: 0.010;Accuracy (test, 100 instances): 68.0\r\n",
        "\r\n",
        "#tr 75, lr = 0.01\r\n",
        "#tr:  75, epochs:   5, learning rate: 0.010;Accuracy (test, 100 instances): 68.0\r\n",
        "#tr:  75, epochs:  10, learning rate: 0.010;Accuracy (test, 100 instances): 68.0\r\n",
        "#tr:  75, epochs:  20, learning rate: 0.010;Accuracy (test, 100 instances): 68.0\r\n",
        "#tr:  75, epochs:  50, learning rate: 0.010;Accuracy (test, 100 instances): 68.0\r\n",
        "#tr:  75, epochs: 100, learning rate: 0.010;Accuracy (test, 100 instances): 67.0\r\n",
        "\r\n",
        "#tr 100, lr = 0.01\r\n",
        "#tr: 100, epochs:   5, learning rate: 0.010;Accuracy (test, 100 instances): 68.0\r\n",
        "#tr: 100, epochs:  10, learning rate: 0.010;Accuracy (test, 100 instances): 68.0\r\n",
        "#tr: 100, epochs:  20, learning rate: 0.010;Accuracy (test, 100 instances): 68.0\r\n",
        "#tr: 100, epochs:  50, learning rate: 0.010;Accuracy (test, 100 instances): 68.0\r\n",
        "#tr: 100, epochs: 100, learning rate: 0.010;Accuracy (test, 100 instances): 71.0\r\n",
        "\r\n",
        "\r\n",
        "\r\n",
        "#tr 5, lr = 0.05\r\n",
        "#tr:   5, epochs:   5, learning rate: 0.050;Accuracy (test, 100 instances): 68.0\r\n",
        "#tr:   5, epochs:  10, learning rate: 0.050;Accuracy (test, 100 instances): 68.0\r\n",
        "#tr:   5, epochs:  20, learning rate: 0.050;Accuracy (test, 100 instances): 68.0\r\n",
        "#tr:   5, epochs:  50, learning rate: 0.050;Accuracy (test, 100 instances): 68.0\r\n",
        "#tr:   5, epochs: 100, learning rate: 0.050;Accuracy (test, 100 instances): 68.0\r\n",
        "\r\n",
        "\r\n",
        "#tr 10, lr = 0.05\r\n",
        "#tr:  10, epochs:   5, learning rate: 0.050;Accuracy (test, 100 instances): 68.0\r\n",
        "#tr:  10, epochs:  10, learning rate: 0.050;Accuracy (test, 100 instances): 68.0\r\n",
        "#tr:  10, epochs:  20, learning rate: 0.050;Accuracy (test, 100 instances): 67.0\r\n",
        "#tr:  10, epochs:  50, learning rate: 0.050;Accuracy (test, 100 instances): 70.0\r\n",
        "#tr:  10, epochs: 100, learning rate: 0.050;Accuracy (test, 100 instances): 68.0\r\n",
        "\r\n",
        "#tr 25, lr = 0.05\r\n",
        "#tr:  25, epochs:   5, learning rate: 0.050;Accuracy (test, 100 instances): 68.0\r\n",
        "#tr:  25, epochs:  10, learning rate: 0.050;Accuracy (test, 100 instances): 68.0\r\n",
        "#tr:  25, epochs:  20, learning rate: 0.050;Accuracy (test, 100 instances): 71.0\r\n",
        "#tr:  25, epochs:  50, learning rate: 0.050;Accuracy (test, 100 instances): 68.0\r\n",
        "#tr:  25, epochs: 100, learning rate: 0.050;Accuracy (test, 100 instances): 60.0\r\n",
        "\r\n",
        "#tr 50, lr = 0.05\r\n",
        "#tr:  50, epochs:   5, learning rate: 0.050;Accuracy (test, 100 instances): 68.0\r\n",
        "#tr:  50, epochs:  10, learning rate: 0.050;Accuracy (test, 100 instances): 68.0\r\n",
        "#tr:  50, epochs:  20, learning rate: 0.050;Accuracy (test, 100 instances): 68.0\r\n",
        "#tr:  50, epochs:  50, learning rate: 0.050;Accuracy (test, 100 instances): 70.0\r\n",
        "#tr:  50, epochs: 100, learning rate: 0.050;Accuracy (test, 100 instances): 69.0\r\n",
        "\r\n",
        "#tr 75, lr = 0.05\r\n",
        "#tr:  75, epochs:   5, learning rate: 0.050;Accuracy (test, 100 instances): 68.0\r\n",
        "#tr:  75, epochs:  10, learning rate: 0.050;Accuracy (test, 100 instances): 68.0\r\n",
        "#tr:  75, epochs:  20, learning rate: 0.050;Accuracy (test, 100 instances): 67.0\r\n",
        "#tr:  75, epochs:  50, learning rate: 0.050;Accuracy (test, 100 instances): 70.0\r\n",
        "#tr:  75, epochs: 100, learning rate: 0.050;Accuracy (test, 100 instances): 70.0\r\n",
        "\r\n",
        "\r\n",
        "#tr 100, lr = 0.05\r\n",
        "#tr: 100, epochs:   5, learning rate: 0.050;Accuracy (test, 100 instances): 68.0\r\n",
        "#tr: 100, epochs:  10, learning rate: 0.050;Accuracy (test, 100 instances): 67.0\r\n",
        "#tr: 100, epochs:  20, learning rate: 0.050;Accuracy (test, 100 instances): 70.0\r\n",
        "#tr: 100, epochs:  50, learning rate: 0.050;Accuracy (test, 100 instances): 74.0\r\n",
        "#tr: 100, epochs: 100, learning rate: 0.050;Accuracy (test, 100 instances): 77.0"
      ],
      "execution_count": null,
      "outputs": []
    },
    {
      "cell_type": "code",
      "metadata": {
        "colab": {
          "base_uri": "https://localhost:8080/"
        },
        "id": "kcUUHuF2u09B",
        "outputId": "c2dc8b43-85e0-4c2f-fc50-14fb4e52c939"
      },
      "source": [
        "instances_tr = read_data(\"train.dat\")\r\n",
        "instances_te = read_data(\"test.dat\")\r\n",
        "instances_tr200 = instances_tr[:400]\r\n",
        "lr = 0.05\r\n",
        "epochs = 100\r\n",
        "weights = train_perceptron(instances_tr200, lr, epochs)\r\n",
        "accuracy = get_accuracy(weights, instances_te)\r\n",
        "print(f\"#tr: {len(instances_tr200):3}, epochs: {epochs:3}, learning rate: {lr:.3f};\"\r\n",
        "      f\"Accuracy (test, {len(instances_te)} instances): {accuracy:.1f}\")"
      ],
      "execution_count": null,
      "outputs": [
        {
          "output_type": "stream",
          "text": [
            "#tr: 400, epochs: 100, learning rate: 0.050;Accuracy (test, 100 instances): 80.0\n"
          ],
          "name": "stdout"
        }
      ]
    },
    {
      "cell_type": "markdown",
      "metadata": {
        "id": "OFB9MtwML24O"
      },
      "source": [
        "### Question 3\n",
        "Write a couple paragraphs interpreting the results with all the combinations of hyperparameters. Drawing a plot will probably help you make a point. In particular, answer the following:\n",
        "- Do you need to train with all the training dataset to get the highest accuracy with the test dataset?\n",
        "- How do you justify that training the second run obtains worse accuracy than the first one (despite the second one uses more training data)?\n",
        "   ```\n",
        "#tr: 100, epochs:  20, learning rate: 0.050; Accuracy (test, 100 instances): 71.0\n",
        "#tr: 200, epochs:  20, learning rate: 0.005; Accuracy (test, 100 instances): 68.0\n",
        "```\n",
        "- Can you get higher accuracy with additional hyperparameters (higher than `80.0`)?\n",
        "- Is it always worth training for more epochs (while keeping all other hyperparameters fixed)?\n",
        "\n",
        "#### TODO Add your answer here (code and text)"
      ]
    },
    {
      "cell_type": "markdown",
      "metadata": {
        "id": "hLcXaV-V4nfp"
      },
      "source": [
        "**Answer**:\r\n",
        "\r\n",
        "It was observe that learning rate, amount of training data, and number of training epochs all play a vital role in accuracy.\r\n",
        "\r\n",
        "To get the highest achievable accuracy, it is good to train with a high amount of the training data set if not all, to ensure accuracy is high. However, factors like number of epochs and especially the learning rate plays a better role in increasing accuracy.\r\n",
        "\r\n",
        "The learning rate in the second run of the data in consideration is certainly lower at 0.005 hence the reduction in accuracy.\r\n",
        "\r\n",
        "While trying with training set (400) with a learning rate (0.03) and higher epoch (100) we were able to achieve an accuracy of 80. Sometimes training more epochs is great but it is generally advisable to keep tuning the parameters to attain optimal accuracy.\r\n",
        "\r\n"
      ]
    },
    {
      "cell_type": "code",
      "metadata": {
        "id": "hLhUJaxe4jMi"
      },
      "source": [
        ""
      ],
      "execution_count": null,
      "outputs": []
    }
  ]
}